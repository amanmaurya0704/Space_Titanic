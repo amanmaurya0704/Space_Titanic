{
 "cells": [
  {
   "cell_type": "markdown",
   "id": "1d5b8084",
   "metadata": {
    "papermill": {
     "duration": 0.013385,
     "end_time": "2023-10-27T06:08:59.651016",
     "exception": false,
     "start_time": "2023-10-27T06:08:59.637631",
     "status": "completed"
    },
    "tags": []
   },
   "source": [
    "# Getting Started"
   ]
  },
  {
   "cell_type": "code",
   "execution_count": 1,
   "id": "ff5c3791",
   "metadata": {
    "execution": {
     "iopub.execute_input": "2023-10-27T06:08:59.679883Z",
     "iopub.status.busy": "2023-10-27T06:08:59.679437Z",
     "iopub.status.idle": "2023-10-27T06:09:00.182232Z",
     "shell.execute_reply": "2023-10-27T06:09:00.180963Z"
    },
    "papermill": {
     "duration": 0.520727,
     "end_time": "2023-10-27T06:09:00.185056",
     "exception": false,
     "start_time": "2023-10-27T06:08:59.664329",
     "status": "completed"
    },
    "tags": []
   },
   "outputs": [],
   "source": [
    "import pandas as pd\n",
    "import numpy as np"
   ]
  },
  {
   "cell_type": "code",
   "execution_count": 2,
   "id": "08d8a32a",
   "metadata": {
    "execution": {
     "iopub.execute_input": "2023-10-27T06:09:00.213258Z",
     "iopub.status.busy": "2023-10-27T06:09:00.212599Z",
     "iopub.status.idle": "2023-10-27T06:09:00.283620Z",
     "shell.execute_reply": "2023-10-27T06:09:00.282401Z"
    },
    "papermill": {
     "duration": 0.088356,
     "end_time": "2023-10-27T06:09:00.286347",
     "exception": false,
     "start_time": "2023-10-27T06:09:00.197991",
     "status": "completed"
    },
    "tags": []
   },
   "outputs": [],
   "source": [
    "dataset_train = pd.read_csv(\"/kaggle/input/spaceship-titanic/train.csv\")"
   ]
  },
  {
   "cell_type": "code",
   "execution_count": 3,
   "id": "07fe4d73",
   "metadata": {
    "execution": {
     "iopub.execute_input": "2023-10-27T06:09:00.314754Z",
     "iopub.status.busy": "2023-10-27T06:09:00.313608Z",
     "iopub.status.idle": "2023-10-27T06:09:00.322148Z",
     "shell.execute_reply": "2023-10-27T06:09:00.321075Z"
    },
    "papermill": {
     "duration": 0.025135,
     "end_time": "2023-10-27T06:09:00.324486",
     "exception": false,
     "start_time": "2023-10-27T06:09:00.299351",
     "status": "completed"
    },
    "tags": []
   },
   "outputs": [
    {
     "data": {
      "text/plain": [
       "(8693, 14)"
      ]
     },
     "execution_count": 3,
     "metadata": {},
     "output_type": "execute_result"
    }
   ],
   "source": [
    "dataset_train.shape"
   ]
  },
  {
   "cell_type": "code",
   "execution_count": 4,
   "id": "802b22a7",
   "metadata": {
    "execution": {
     "iopub.execute_input": "2023-10-27T06:09:00.352942Z",
     "iopub.status.busy": "2023-10-27T06:09:00.352174Z",
     "iopub.status.idle": "2023-10-27T06:09:00.374606Z",
     "shell.execute_reply": "2023-10-27T06:09:00.373731Z"
    },
    "papermill": {
     "duration": 0.039787,
     "end_time": "2023-10-27T06:09:00.377477",
     "exception": false,
     "start_time": "2023-10-27T06:09:00.337690",
     "status": "completed"
    },
    "tags": []
   },
   "outputs": [
    {
     "data": {
      "text/plain": [
       "PassengerId       0\n",
       "HomePlanet      201\n",
       "CryoSleep       217\n",
       "Cabin           199\n",
       "Destination     182\n",
       "Age             179\n",
       "VIP             203\n",
       "RoomService     181\n",
       "FoodCourt       183\n",
       "ShoppingMall    208\n",
       "Spa             183\n",
       "VRDeck          188\n",
       "Name            200\n",
       "Transported       0\n",
       "dtype: int64"
      ]
     },
     "execution_count": 4,
     "metadata": {},
     "output_type": "execute_result"
    }
   ],
   "source": [
    "dataset_train.isnull().sum()"
   ]
  },
  {
   "cell_type": "code",
   "execution_count": 5,
   "id": "27e4a6b2",
   "metadata": {
    "execution": {
     "iopub.execute_input": "2023-10-27T06:09:00.407755Z",
     "iopub.status.busy": "2023-10-27T06:09:00.407170Z",
     "iopub.status.idle": "2023-10-27T06:09:00.446546Z",
     "shell.execute_reply": "2023-10-27T06:09:00.444760Z"
    },
    "papermill": {
     "duration": 0.058835,
     "end_time": "2023-10-27T06:09:00.450427",
     "exception": false,
     "start_time": "2023-10-27T06:09:00.391592",
     "status": "completed"
    },
    "tags": []
   },
   "outputs": [
    {
     "name": "stdout",
     "output_type": "stream",
     "text": [
      "<class 'pandas.core.frame.DataFrame'>\n",
      "RangeIndex: 8693 entries, 0 to 8692\n",
      "Data columns (total 14 columns):\n",
      " #   Column        Non-Null Count  Dtype  \n",
      "---  ------        --------------  -----  \n",
      " 0   PassengerId   8693 non-null   object \n",
      " 1   HomePlanet    8492 non-null   object \n",
      " 2   CryoSleep     8476 non-null   object \n",
      " 3   Cabin         8494 non-null   object \n",
      " 4   Destination   8511 non-null   object \n",
      " 5   Age           8514 non-null   float64\n",
      " 6   VIP           8490 non-null   object \n",
      " 7   RoomService   8512 non-null   float64\n",
      " 8   FoodCourt     8510 non-null   float64\n",
      " 9   ShoppingMall  8485 non-null   float64\n",
      " 10  Spa           8510 non-null   float64\n",
      " 11  VRDeck        8505 non-null   float64\n",
      " 12  Name          8493 non-null   object \n",
      " 13  Transported   8693 non-null   bool   \n",
      "dtypes: bool(1), float64(6), object(7)\n",
      "memory usage: 891.5+ KB\n"
     ]
    }
   ],
   "source": [
    "dataset_train.info()"
   ]
  },
  {
   "cell_type": "code",
   "execution_count": 6,
   "id": "7494f094",
   "metadata": {
    "execution": {
     "iopub.execute_input": "2023-10-27T06:09:00.481473Z",
     "iopub.status.busy": "2023-10-27T06:09:00.481075Z",
     "iopub.status.idle": "2023-10-27T06:09:00.515135Z",
     "shell.execute_reply": "2023-10-27T06:09:00.513830Z"
    },
    "papermill": {
     "duration": 0.053254,
     "end_time": "2023-10-27T06:09:00.518597",
     "exception": false,
     "start_time": "2023-10-27T06:09:00.465343",
     "status": "completed"
    },
    "tags": []
   },
   "outputs": [],
   "source": [
    "dataset_test = pd.read_csv(\"/kaggle/input/spaceship-titanic/test.csv\")"
   ]
  },
  {
   "cell_type": "code",
   "execution_count": 7,
   "id": "7bb385e7",
   "metadata": {
    "execution": {
     "iopub.execute_input": "2023-10-27T06:09:00.549583Z",
     "iopub.status.busy": "2023-10-27T06:09:00.549178Z",
     "iopub.status.idle": "2023-10-27T06:09:00.556633Z",
     "shell.execute_reply": "2023-10-27T06:09:00.555415Z"
    },
    "papermill": {
     "duration": 0.025771,
     "end_time": "2023-10-27T06:09:00.559215",
     "exception": false,
     "start_time": "2023-10-27T06:09:00.533444",
     "status": "completed"
    },
    "tags": []
   },
   "outputs": [
    {
     "data": {
      "text/plain": [
       "(4277, 13)"
      ]
     },
     "execution_count": 7,
     "metadata": {},
     "output_type": "execute_result"
    }
   ],
   "source": [
    "dataset_test.shape"
   ]
  },
  {
   "cell_type": "code",
   "execution_count": 8,
   "id": "fec7fd0e",
   "metadata": {
    "execution": {
     "iopub.execute_input": "2023-10-27T06:09:00.589942Z",
     "iopub.status.busy": "2023-10-27T06:09:00.589568Z",
     "iopub.status.idle": "2023-10-27T06:09:00.605730Z",
     "shell.execute_reply": "2023-10-27T06:09:00.604706Z"
    },
    "papermill": {
     "duration": 0.035032,
     "end_time": "2023-10-27T06:09:00.608199",
     "exception": false,
     "start_time": "2023-10-27T06:09:00.573167",
     "status": "completed"
    },
    "tags": []
   },
   "outputs": [
    {
     "name": "stdout",
     "output_type": "stream",
     "text": [
      "<class 'pandas.core.frame.DataFrame'>\n",
      "RangeIndex: 4277 entries, 0 to 4276\n",
      "Data columns (total 13 columns):\n",
      " #   Column        Non-Null Count  Dtype  \n",
      "---  ------        --------------  -----  \n",
      " 0   PassengerId   4277 non-null   object \n",
      " 1   HomePlanet    4190 non-null   object \n",
      " 2   CryoSleep     4184 non-null   object \n",
      " 3   Cabin         4177 non-null   object \n",
      " 4   Destination   4185 non-null   object \n",
      " 5   Age           4186 non-null   float64\n",
      " 6   VIP           4184 non-null   object \n",
      " 7   RoomService   4195 non-null   float64\n",
      " 8   FoodCourt     4171 non-null   float64\n",
      " 9   ShoppingMall  4179 non-null   float64\n",
      " 10  Spa           4176 non-null   float64\n",
      " 11  VRDeck        4197 non-null   float64\n",
      " 12  Name          4183 non-null   object \n",
      "dtypes: float64(6), object(7)\n",
      "memory usage: 434.5+ KB\n"
     ]
    }
   ],
   "source": [
    "dataset_test.info()"
   ]
  },
  {
   "cell_type": "code",
   "execution_count": 9,
   "id": "a9401e12",
   "metadata": {
    "execution": {
     "iopub.execute_input": "2023-10-27T06:09:00.639410Z",
     "iopub.status.busy": "2023-10-27T06:09:00.637829Z",
     "iopub.status.idle": "2023-10-27T06:09:00.652748Z",
     "shell.execute_reply": "2023-10-27T06:09:00.651533Z"
    },
    "papermill": {
     "duration": 0.032995,
     "end_time": "2023-10-27T06:09:00.655201",
     "exception": false,
     "start_time": "2023-10-27T06:09:00.622206",
     "status": "completed"
    },
    "tags": []
   },
   "outputs": [
    {
     "data": {
      "text/plain": [
       "PassengerId       0\n",
       "HomePlanet       87\n",
       "CryoSleep        93\n",
       "Cabin           100\n",
       "Destination      92\n",
       "Age              91\n",
       "VIP              93\n",
       "RoomService      82\n",
       "FoodCourt       106\n",
       "ShoppingMall     98\n",
       "Spa             101\n",
       "VRDeck           80\n",
       "Name             94\n",
       "dtype: int64"
      ]
     },
     "execution_count": 9,
     "metadata": {},
     "output_type": "execute_result"
    }
   ],
   "source": [
    "dataset_test.isnull().sum()"
   ]
  },
  {
   "cell_type": "markdown",
   "id": "7083d940",
   "metadata": {
    "papermill": {
     "duration": 0.014794,
     "end_time": "2023-10-27T06:09:00.683868",
     "exception": false,
     "start_time": "2023-10-27T06:09:00.669074",
     "status": "completed"
    },
    "tags": []
   },
   "source": [
    "# Merging Data"
   ]
  },
  {
   "cell_type": "code",
   "execution_count": 10,
   "id": "80e2397a",
   "metadata": {
    "execution": {
     "iopub.execute_input": "2023-10-27T06:09:00.713692Z",
     "iopub.status.busy": "2023-10-27T06:09:00.713034Z",
     "iopub.status.idle": "2023-10-27T06:09:00.731352Z",
     "shell.execute_reply": "2023-10-27T06:09:00.730152Z"
    },
    "papermill": {
     "duration": 0.036182,
     "end_time": "2023-10-27T06:09:00.733769",
     "exception": false,
     "start_time": "2023-10-27T06:09:00.697587",
     "status": "completed"
    },
    "tags": []
   },
   "outputs": [
    {
     "data": {
      "text/plain": [
       "0       False\n",
       "1        True\n",
       "2       False\n",
       "3       False\n",
       "4        True\n",
       "        ...  \n",
       "8688    False\n",
       "8689    False\n",
       "8690     True\n",
       "8691    False\n",
       "8692     True\n",
       "Name: Transported, Length: 8693, dtype: bool"
      ]
     },
     "execution_count": 10,
     "metadata": {},
     "output_type": "execute_result"
    }
   ],
   "source": [
    "y = dataset_train['Transported']\n",
    "dataset_train = dataset_train.drop([\"Transported\"],axis = 1)\n",
    "y"
   ]
  },
  {
   "cell_type": "code",
   "execution_count": 11,
   "id": "72f098f2",
   "metadata": {
    "execution": {
     "iopub.execute_input": "2023-10-27T06:09:00.764655Z",
     "iopub.status.busy": "2023-10-27T06:09:00.763324Z",
     "iopub.status.idle": "2023-10-27T06:09:00.774969Z",
     "shell.execute_reply": "2023-10-27T06:09:00.773631Z"
    },
    "papermill": {
     "duration": 0.030176,
     "end_time": "2023-10-27T06:09:00.777762",
     "exception": false,
     "start_time": "2023-10-27T06:09:00.747586",
     "status": "completed"
    },
    "tags": []
   },
   "outputs": [],
   "source": [
    "final_dataset = pd.concat([dataset_train,dataset_test])"
   ]
  },
  {
   "cell_type": "markdown",
   "id": "5bd16496",
   "metadata": {
    "papermill": {
     "duration": 0.013814,
     "end_time": "2023-10-27T06:09:00.805486",
     "exception": false,
     "start_time": "2023-10-27T06:09:00.791672",
     "status": "completed"
    },
    "tags": []
   },
   "source": [
    "# Preparing Data"
   ]
  },
  {
   "cell_type": "code",
   "execution_count": 12,
   "id": "5bf2636f",
   "metadata": {
    "execution": {
     "iopub.execute_input": "2023-10-27T06:09:00.836120Z",
     "iopub.status.busy": "2023-10-27T06:09:00.835360Z",
     "iopub.status.idle": "2023-10-27T06:09:00.843134Z",
     "shell.execute_reply": "2023-10-27T06:09:00.841899Z"
    },
    "papermill": {
     "duration": 0.026303,
     "end_time": "2023-10-27T06:09:00.845577",
     "exception": false,
     "start_time": "2023-10-27T06:09:00.819274",
     "status": "completed"
    },
    "tags": []
   },
   "outputs": [
    {
     "data": {
      "text/plain": [
       "(12970, 13)"
      ]
     },
     "execution_count": 12,
     "metadata": {},
     "output_type": "execute_result"
    }
   ],
   "source": [
    "final_dataset.shape"
   ]
  },
  {
   "cell_type": "code",
   "execution_count": 13,
   "id": "0f1df5f4",
   "metadata": {
    "execution": {
     "iopub.execute_input": "2023-10-27T06:09:00.875473Z",
     "iopub.status.busy": "2023-10-27T06:09:00.875047Z",
     "iopub.status.idle": "2023-10-27T06:09:00.895398Z",
     "shell.execute_reply": "2023-10-27T06:09:00.894282Z"
    },
    "papermill": {
     "duration": 0.039036,
     "end_time": "2023-10-27T06:09:00.898513",
     "exception": false,
     "start_time": "2023-10-27T06:09:00.859477",
     "status": "completed"
    },
    "tags": []
   },
   "outputs": [
    {
     "data": {
      "text/plain": [
       "PassengerId       0\n",
       "HomePlanet      288\n",
       "CryoSleep       310\n",
       "Cabin           299\n",
       "Destination     274\n",
       "Age             270\n",
       "VIP             296\n",
       "RoomService     263\n",
       "FoodCourt       289\n",
       "ShoppingMall    306\n",
       "Spa             284\n",
       "VRDeck          268\n",
       "Name            294\n",
       "dtype: int64"
      ]
     },
     "execution_count": 13,
     "metadata": {},
     "output_type": "execute_result"
    }
   ],
   "source": [
    "final_dataset.isnull().sum()"
   ]
  },
  {
   "cell_type": "code",
   "execution_count": 14,
   "id": "4e00462e",
   "metadata": {
    "execution": {
     "iopub.execute_input": "2023-10-27T06:09:00.933055Z",
     "iopub.status.busy": "2023-10-27T06:09:00.932308Z",
     "iopub.status.idle": "2023-10-27T06:09:00.939900Z",
     "shell.execute_reply": "2023-10-27T06:09:00.938974Z"
    },
    "papermill": {
     "duration": 0.02742,
     "end_time": "2023-10-27T06:09:00.942221",
     "exception": false,
     "start_time": "2023-10-27T06:09:00.914801",
     "status": "completed"
    },
    "tags": []
   },
   "outputs": [
    {
     "data": {
      "text/plain": [
       "array(['Europa', 'Earth', 'Mars', nan], dtype=object)"
      ]
     },
     "execution_count": 14,
     "metadata": {},
     "output_type": "execute_result"
    }
   ],
   "source": [
    "final_dataset['HomePlanet'].unique()"
   ]
  },
  {
   "cell_type": "code",
   "execution_count": 15,
   "id": "1cc30d1a",
   "metadata": {
    "execution": {
     "iopub.execute_input": "2023-10-27T06:09:01.070537Z",
     "iopub.status.busy": "2023-10-27T06:09:01.070113Z",
     "iopub.status.idle": "2023-10-27T06:09:01.083581Z",
     "shell.execute_reply": "2023-10-27T06:09:01.082366Z"
    },
    "papermill": {
     "duration": 0.129258,
     "end_time": "2023-10-27T06:09:01.086937",
     "exception": false,
     "start_time": "2023-10-27T06:09:00.957679",
     "status": "completed"
    },
    "tags": []
   },
   "outputs": [],
   "source": [
    "final_dataset[['VIP','RoomService', 'FoodCourt', 'ShoppingMall', 'Spa', 'VRDeck']] = final_dataset[['VIP','RoomService', 'FoodCourt', 'ShoppingMall', 'Spa', 'VRDeck']].fillna(0)"
   ]
  },
  {
   "cell_type": "code",
   "execution_count": 16,
   "id": "1fcd6963",
   "metadata": {
    "execution": {
     "iopub.execute_input": "2023-10-27T06:09:01.119450Z",
     "iopub.status.busy": "2023-10-27T06:09:01.118844Z",
     "iopub.status.idle": "2023-10-27T06:09:01.137258Z",
     "shell.execute_reply": "2023-10-27T06:09:01.136058Z"
    },
    "papermill": {
     "duration": 0.038152,
     "end_time": "2023-10-27T06:09:01.140286",
     "exception": false,
     "start_time": "2023-10-27T06:09:01.102134",
     "status": "completed"
    },
    "tags": []
   },
   "outputs": [
    {
     "data": {
      "text/plain": [
       "PassengerId       0\n",
       "HomePlanet      288\n",
       "CryoSleep       310\n",
       "Cabin           299\n",
       "Destination     274\n",
       "Age             270\n",
       "VIP               0\n",
       "RoomService       0\n",
       "FoodCourt         0\n",
       "ShoppingMall      0\n",
       "Spa               0\n",
       "VRDeck            0\n",
       "Name            294\n",
       "dtype: int64"
      ]
     },
     "execution_count": 16,
     "metadata": {},
     "output_type": "execute_result"
    }
   ],
   "source": [
    "final_dataset.isnull().sum()"
   ]
  },
  {
   "cell_type": "code",
   "execution_count": 17,
   "id": "51ffb239",
   "metadata": {
    "execution": {
     "iopub.execute_input": "2023-10-27T06:09:01.173792Z",
     "iopub.status.busy": "2023-10-27T06:09:01.173369Z",
     "iopub.status.idle": "2023-10-27T06:09:01.181532Z",
     "shell.execute_reply": "2023-10-27T06:09:01.180440Z"
    },
    "papermill": {
     "duration": 0.027781,
     "end_time": "2023-10-27T06:09:01.184119",
     "exception": false,
     "start_time": "2023-10-27T06:09:01.156338",
     "status": "completed"
    },
    "tags": []
   },
   "outputs": [],
   "source": [
    "final_dataset.drop(['PassengerId','Name'],axis = 1,inplace= True)"
   ]
  },
  {
   "cell_type": "code",
   "execution_count": 18,
   "id": "f1ba98ba",
   "metadata": {
    "execution": {
     "iopub.execute_input": "2023-10-27T06:09:01.216908Z",
     "iopub.status.busy": "2023-10-27T06:09:01.216510Z",
     "iopub.status.idle": "2023-10-27T06:09:01.233984Z",
     "shell.execute_reply": "2023-10-27T06:09:01.233022Z"
    },
    "papermill": {
     "duration": 0.037278,
     "end_time": "2023-10-27T06:09:01.236768",
     "exception": false,
     "start_time": "2023-10-27T06:09:01.199490",
     "status": "completed"
    },
    "tags": []
   },
   "outputs": [
    {
     "data": {
      "text/plain": [
       "HomePlanet      288\n",
       "CryoSleep       310\n",
       "Cabin           299\n",
       "Destination     274\n",
       "Age             270\n",
       "VIP               0\n",
       "RoomService       0\n",
       "FoodCourt         0\n",
       "ShoppingMall      0\n",
       "Spa               0\n",
       "VRDeck            0\n",
       "dtype: int64"
      ]
     },
     "execution_count": 18,
     "metadata": {},
     "output_type": "execute_result"
    }
   ],
   "source": [
    "final_dataset.isnull().sum()"
   ]
  },
  {
   "cell_type": "code",
   "execution_count": 19,
   "id": "e0f9a9ce",
   "metadata": {
    "execution": {
     "iopub.execute_input": "2023-10-27T06:09:01.272315Z",
     "iopub.status.busy": "2023-10-27T06:09:01.270616Z",
     "iopub.status.idle": "2023-10-27T06:09:01.294243Z",
     "shell.execute_reply": "2023-10-27T06:09:01.292458Z"
    },
    "papermill": {
     "duration": 0.044974,
     "end_time": "2023-10-27T06:09:01.297267",
     "exception": false,
     "start_time": "2023-10-27T06:09:01.252293",
     "status": "completed"
    },
    "tags": []
   },
   "outputs": [
    {
     "name": "stdout",
     "output_type": "stream",
     "text": [
      "<class 'pandas.core.frame.DataFrame'>\n",
      "Index: 12970 entries, 0 to 4276\n",
      "Data columns (total 11 columns):\n",
      " #   Column        Non-Null Count  Dtype  \n",
      "---  ------        --------------  -----  \n",
      " 0   HomePlanet    12682 non-null  object \n",
      " 1   CryoSleep     12660 non-null  object \n",
      " 2   Cabin         12671 non-null  object \n",
      " 3   Destination   12696 non-null  object \n",
      " 4   Age           12700 non-null  float64\n",
      " 5   VIP           12970 non-null  object \n",
      " 6   RoomService   12970 non-null  float64\n",
      " 7   FoodCourt     12970 non-null  float64\n",
      " 8   ShoppingMall  12970 non-null  float64\n",
      " 9   Spa           12970 non-null  float64\n",
      " 10  VRDeck        12970 non-null  float64\n",
      "dtypes: float64(6), object(5)\n",
      "memory usage: 1.2+ MB\n"
     ]
    }
   ],
   "source": [
    "final_dataset.info()"
   ]
  },
  {
   "cell_type": "code",
   "execution_count": 20,
   "id": "dd430b73",
   "metadata": {
    "execution": {
     "iopub.execute_input": "2023-10-27T06:09:01.330993Z",
     "iopub.status.busy": "2023-10-27T06:09:01.330533Z",
     "iopub.status.idle": "2023-10-27T06:09:01.365099Z",
     "shell.execute_reply": "2023-10-27T06:09:01.363774Z"
    },
    "papermill": {
     "duration": 0.055008,
     "end_time": "2023-10-27T06:09:01.368045",
     "exception": false,
     "start_time": "2023-10-27T06:09:01.313037",
     "status": "completed"
    },
    "tags": []
   },
   "outputs": [],
   "source": [
    "final_dataset['HomePlanet']=final_dataset['HomePlanet'].fillna(final_dataset['HomePlanet'].mode()[0])\n",
    "final_dataset['CryoSleep']=final_dataset['CryoSleep'].fillna(final_dataset['CryoSleep'].mode()[0])\n",
    "final_dataset['Cabin']=final_dataset['Cabin'].fillna(final_dataset['Cabin'].mode()[0])\n",
    "final_dataset['Destination']=final_dataset['Destination'].fillna(final_dataset['Destination'].mode()[0])\n",
    "final_dataset['Age']=final_dataset['Age'].fillna(final_dataset['Age'].mean())"
   ]
  },
  {
   "cell_type": "code",
   "execution_count": 21,
   "id": "505d1abf",
   "metadata": {
    "execution": {
     "iopub.execute_input": "2023-10-27T06:09:01.401573Z",
     "iopub.status.busy": "2023-10-27T06:09:01.400646Z",
     "iopub.status.idle": "2023-10-27T06:09:01.418231Z",
     "shell.execute_reply": "2023-10-27T06:09:01.416954Z"
    },
    "papermill": {
     "duration": 0.037491,
     "end_time": "2023-10-27T06:09:01.420812",
     "exception": false,
     "start_time": "2023-10-27T06:09:01.383321",
     "status": "completed"
    },
    "tags": []
   },
   "outputs": [
    {
     "data": {
      "text/plain": [
       "HomePlanet      0\n",
       "CryoSleep       0\n",
       "Cabin           0\n",
       "Destination     0\n",
       "Age             0\n",
       "VIP             0\n",
       "RoomService     0\n",
       "FoodCourt       0\n",
       "ShoppingMall    0\n",
       "Spa             0\n",
       "VRDeck          0\n",
       "dtype: int64"
      ]
     },
     "execution_count": 21,
     "metadata": {},
     "output_type": "execute_result"
    }
   ],
   "source": [
    "final_dataset.isnull().sum()"
   ]
  },
  {
   "cell_type": "code",
   "execution_count": 22,
   "id": "a97a8b50",
   "metadata": {
    "execution": {
     "iopub.execute_input": "2023-10-27T06:09:01.455257Z",
     "iopub.status.busy": "2023-10-27T06:09:01.454520Z",
     "iopub.status.idle": "2023-10-27T06:09:01.492455Z",
     "shell.execute_reply": "2023-10-27T06:09:01.491186Z"
    },
    "papermill": {
     "duration": 0.058486,
     "end_time": "2023-10-27T06:09:01.495738",
     "exception": false,
     "start_time": "2023-10-27T06:09:01.437252",
     "status": "completed"
    },
    "tags": []
   },
   "outputs": [],
   "source": [
    "final_dataset[['Deck','Cabin_num','Side']]=final_dataset.Cabin.str.split('/',expand=True)\n",
    "final_dataset.drop(['Cabin'],axis = 1,inplace=True)"
   ]
  },
  {
   "cell_type": "code",
   "execution_count": 23,
   "id": "7b500046",
   "metadata": {
    "execution": {
     "iopub.execute_input": "2023-10-27T06:09:01.530171Z",
     "iopub.status.busy": "2023-10-27T06:09:01.529771Z",
     "iopub.status.idle": "2023-10-27T06:09:01.538648Z",
     "shell.execute_reply": "2023-10-27T06:09:01.537450Z"
    },
    "papermill": {
     "duration": 0.029691,
     "end_time": "2023-10-27T06:09:01.541317",
     "exception": false,
     "start_time": "2023-10-27T06:09:01.511626",
     "status": "completed"
    },
    "tags": []
   },
   "outputs": [],
   "source": [
    "final_dataset.Cabin_num = final_dataset.Cabin_num.astype(float)"
   ]
  },
  {
   "cell_type": "code",
   "execution_count": 24,
   "id": "2a5fdc6d",
   "metadata": {
    "execution": {
     "iopub.execute_input": "2023-10-27T06:09:01.576323Z",
     "iopub.status.busy": "2023-10-27T06:09:01.575927Z",
     "iopub.status.idle": "2023-10-27T06:09:01.600268Z",
     "shell.execute_reply": "2023-10-27T06:09:01.599364Z"
    },
    "papermill": {
     "duration": 0.045447,
     "end_time": "2023-10-27T06:09:01.603246",
     "exception": false,
     "start_time": "2023-10-27T06:09:01.557799",
     "status": "completed"
    },
    "tags": []
   },
   "outputs": [],
   "source": [
    "final_dataset = pd.get_dummies(final_dataset)"
   ]
  },
  {
   "cell_type": "markdown",
   "id": "f175cd15",
   "metadata": {
    "papermill": {
     "duration": 0.017364,
     "end_time": "2023-10-27T06:09:01.638628",
     "exception": false,
     "start_time": "2023-10-27T06:09:01.621264",
     "status": "completed"
    },
    "tags": []
   },
   "source": [
    "# Again Splitting Data"
   ]
  },
  {
   "cell_type": "code",
   "execution_count": 25,
   "id": "19ba5d32",
   "metadata": {
    "execution": {
     "iopub.execute_input": "2023-10-27T06:09:01.673509Z",
     "iopub.status.busy": "2023-10-27T06:09:01.671958Z",
     "iopub.status.idle": "2023-10-27T06:09:01.680899Z",
     "shell.execute_reply": "2023-10-27T06:09:01.679372Z"
    },
    "papermill": {
     "duration": 0.028912,
     "end_time": "2023-10-27T06:09:01.683570",
     "exception": false,
     "start_time": "2023-10-27T06:09:01.654658",
     "status": "completed"
    },
    "tags": []
   },
   "outputs": [],
   "source": [
    "X = final_dataset.iloc[:8693,:]\n",
    "Test = final_dataset.iloc[8693:,:]"
   ]
  },
  {
   "cell_type": "code",
   "execution_count": 26,
   "id": "a86def75",
   "metadata": {
    "execution": {
     "iopub.execute_input": "2023-10-27T06:09:01.716241Z",
     "iopub.status.busy": "2023-10-27T06:09:01.715767Z",
     "iopub.status.idle": "2023-10-27T06:09:01.762015Z",
     "shell.execute_reply": "2023-10-27T06:09:01.761030Z"
    },
    "papermill": {
     "duration": 0.065294,
     "end_time": "2023-10-27T06:09:01.764300",
     "exception": false,
     "start_time": "2023-10-27T06:09:01.699006",
     "status": "completed"
    },
    "tags": []
   },
   "outputs": [
    {
     "data": {
      "text/html": [
       "<div>\n",
       "<style scoped>\n",
       "    .dataframe tbody tr th:only-of-type {\n",
       "        vertical-align: middle;\n",
       "    }\n",
       "\n",
       "    .dataframe tbody tr th {\n",
       "        vertical-align: top;\n",
       "    }\n",
       "\n",
       "    .dataframe thead th {\n",
       "        text-align: right;\n",
       "    }\n",
       "</style>\n",
       "<table border=\"1\" class=\"dataframe\">\n",
       "  <thead>\n",
       "    <tr style=\"text-align: right;\">\n",
       "      <th></th>\n",
       "      <th>CryoSleep</th>\n",
       "      <th>Age</th>\n",
       "      <th>RoomService</th>\n",
       "      <th>FoodCourt</th>\n",
       "      <th>ShoppingMall</th>\n",
       "      <th>Spa</th>\n",
       "      <th>VRDeck</th>\n",
       "      <th>Cabin_num</th>\n",
       "      <th>HomePlanet_Earth</th>\n",
       "      <th>HomePlanet_Europa</th>\n",
       "      <th>...</th>\n",
       "      <th>Deck_A</th>\n",
       "      <th>Deck_B</th>\n",
       "      <th>Deck_C</th>\n",
       "      <th>Deck_D</th>\n",
       "      <th>Deck_E</th>\n",
       "      <th>Deck_F</th>\n",
       "      <th>Deck_G</th>\n",
       "      <th>Deck_T</th>\n",
       "      <th>Side_P</th>\n",
       "      <th>Side_S</th>\n",
       "    </tr>\n",
       "  </thead>\n",
       "  <tbody>\n",
       "    <tr>\n",
       "      <th>0</th>\n",
       "      <td>False</td>\n",
       "      <td>39.0</td>\n",
       "      <td>0.0</td>\n",
       "      <td>0.0</td>\n",
       "      <td>0.0</td>\n",
       "      <td>0.0</td>\n",
       "      <td>0.0</td>\n",
       "      <td>0.0</td>\n",
       "      <td>False</td>\n",
       "      <td>True</td>\n",
       "      <td>...</td>\n",
       "      <td>False</td>\n",
       "      <td>True</td>\n",
       "      <td>False</td>\n",
       "      <td>False</td>\n",
       "      <td>False</td>\n",
       "      <td>False</td>\n",
       "      <td>False</td>\n",
       "      <td>False</td>\n",
       "      <td>True</td>\n",
       "      <td>False</td>\n",
       "    </tr>\n",
       "    <tr>\n",
       "      <th>1</th>\n",
       "      <td>False</td>\n",
       "      <td>24.0</td>\n",
       "      <td>109.0</td>\n",
       "      <td>9.0</td>\n",
       "      <td>25.0</td>\n",
       "      <td>549.0</td>\n",
       "      <td>44.0</td>\n",
       "      <td>0.0</td>\n",
       "      <td>True</td>\n",
       "      <td>False</td>\n",
       "      <td>...</td>\n",
       "      <td>False</td>\n",
       "      <td>False</td>\n",
       "      <td>False</td>\n",
       "      <td>False</td>\n",
       "      <td>False</td>\n",
       "      <td>True</td>\n",
       "      <td>False</td>\n",
       "      <td>False</td>\n",
       "      <td>False</td>\n",
       "      <td>True</td>\n",
       "    </tr>\n",
       "    <tr>\n",
       "      <th>2</th>\n",
       "      <td>False</td>\n",
       "      <td>58.0</td>\n",
       "      <td>43.0</td>\n",
       "      <td>3576.0</td>\n",
       "      <td>0.0</td>\n",
       "      <td>6715.0</td>\n",
       "      <td>49.0</td>\n",
       "      <td>0.0</td>\n",
       "      <td>False</td>\n",
       "      <td>True</td>\n",
       "      <td>...</td>\n",
       "      <td>True</td>\n",
       "      <td>False</td>\n",
       "      <td>False</td>\n",
       "      <td>False</td>\n",
       "      <td>False</td>\n",
       "      <td>False</td>\n",
       "      <td>False</td>\n",
       "      <td>False</td>\n",
       "      <td>False</td>\n",
       "      <td>True</td>\n",
       "    </tr>\n",
       "    <tr>\n",
       "      <th>3</th>\n",
       "      <td>False</td>\n",
       "      <td>33.0</td>\n",
       "      <td>0.0</td>\n",
       "      <td>1283.0</td>\n",
       "      <td>371.0</td>\n",
       "      <td>3329.0</td>\n",
       "      <td>193.0</td>\n",
       "      <td>0.0</td>\n",
       "      <td>False</td>\n",
       "      <td>True</td>\n",
       "      <td>...</td>\n",
       "      <td>True</td>\n",
       "      <td>False</td>\n",
       "      <td>False</td>\n",
       "      <td>False</td>\n",
       "      <td>False</td>\n",
       "      <td>False</td>\n",
       "      <td>False</td>\n",
       "      <td>False</td>\n",
       "      <td>False</td>\n",
       "      <td>True</td>\n",
       "    </tr>\n",
       "    <tr>\n",
       "      <th>4</th>\n",
       "      <td>False</td>\n",
       "      <td>16.0</td>\n",
       "      <td>303.0</td>\n",
       "      <td>70.0</td>\n",
       "      <td>151.0</td>\n",
       "      <td>565.0</td>\n",
       "      <td>2.0</td>\n",
       "      <td>1.0</td>\n",
       "      <td>True</td>\n",
       "      <td>False</td>\n",
       "      <td>...</td>\n",
       "      <td>False</td>\n",
       "      <td>False</td>\n",
       "      <td>False</td>\n",
       "      <td>False</td>\n",
       "      <td>False</td>\n",
       "      <td>True</td>\n",
       "      <td>False</td>\n",
       "      <td>False</td>\n",
       "      <td>False</td>\n",
       "      <td>True</td>\n",
       "    </tr>\n",
       "    <tr>\n",
       "      <th>...</th>\n",
       "      <td>...</td>\n",
       "      <td>...</td>\n",
       "      <td>...</td>\n",
       "      <td>...</td>\n",
       "      <td>...</td>\n",
       "      <td>...</td>\n",
       "      <td>...</td>\n",
       "      <td>...</td>\n",
       "      <td>...</td>\n",
       "      <td>...</td>\n",
       "      <td>...</td>\n",
       "      <td>...</td>\n",
       "      <td>...</td>\n",
       "      <td>...</td>\n",
       "      <td>...</td>\n",
       "      <td>...</td>\n",
       "      <td>...</td>\n",
       "      <td>...</td>\n",
       "      <td>...</td>\n",
       "      <td>...</td>\n",
       "      <td>...</td>\n",
       "    </tr>\n",
       "    <tr>\n",
       "      <th>8688</th>\n",
       "      <td>False</td>\n",
       "      <td>41.0</td>\n",
       "      <td>0.0</td>\n",
       "      <td>6819.0</td>\n",
       "      <td>0.0</td>\n",
       "      <td>1643.0</td>\n",
       "      <td>74.0</td>\n",
       "      <td>98.0</td>\n",
       "      <td>False</td>\n",
       "      <td>True</td>\n",
       "      <td>...</td>\n",
       "      <td>True</td>\n",
       "      <td>False</td>\n",
       "      <td>False</td>\n",
       "      <td>False</td>\n",
       "      <td>False</td>\n",
       "      <td>False</td>\n",
       "      <td>False</td>\n",
       "      <td>False</td>\n",
       "      <td>True</td>\n",
       "      <td>False</td>\n",
       "    </tr>\n",
       "    <tr>\n",
       "      <th>8689</th>\n",
       "      <td>True</td>\n",
       "      <td>18.0</td>\n",
       "      <td>0.0</td>\n",
       "      <td>0.0</td>\n",
       "      <td>0.0</td>\n",
       "      <td>0.0</td>\n",
       "      <td>0.0</td>\n",
       "      <td>1499.0</td>\n",
       "      <td>True</td>\n",
       "      <td>False</td>\n",
       "      <td>...</td>\n",
       "      <td>False</td>\n",
       "      <td>False</td>\n",
       "      <td>False</td>\n",
       "      <td>False</td>\n",
       "      <td>False</td>\n",
       "      <td>False</td>\n",
       "      <td>True</td>\n",
       "      <td>False</td>\n",
       "      <td>False</td>\n",
       "      <td>True</td>\n",
       "    </tr>\n",
       "    <tr>\n",
       "      <th>8690</th>\n",
       "      <td>False</td>\n",
       "      <td>26.0</td>\n",
       "      <td>0.0</td>\n",
       "      <td>0.0</td>\n",
       "      <td>1872.0</td>\n",
       "      <td>1.0</td>\n",
       "      <td>0.0</td>\n",
       "      <td>1500.0</td>\n",
       "      <td>True</td>\n",
       "      <td>False</td>\n",
       "      <td>...</td>\n",
       "      <td>False</td>\n",
       "      <td>False</td>\n",
       "      <td>False</td>\n",
       "      <td>False</td>\n",
       "      <td>False</td>\n",
       "      <td>False</td>\n",
       "      <td>True</td>\n",
       "      <td>False</td>\n",
       "      <td>False</td>\n",
       "      <td>True</td>\n",
       "    </tr>\n",
       "    <tr>\n",
       "      <th>8691</th>\n",
       "      <td>False</td>\n",
       "      <td>32.0</td>\n",
       "      <td>0.0</td>\n",
       "      <td>1049.0</td>\n",
       "      <td>0.0</td>\n",
       "      <td>353.0</td>\n",
       "      <td>3235.0</td>\n",
       "      <td>608.0</td>\n",
       "      <td>False</td>\n",
       "      <td>True</td>\n",
       "      <td>...</td>\n",
       "      <td>False</td>\n",
       "      <td>False</td>\n",
       "      <td>False</td>\n",
       "      <td>False</td>\n",
       "      <td>True</td>\n",
       "      <td>False</td>\n",
       "      <td>False</td>\n",
       "      <td>False</td>\n",
       "      <td>False</td>\n",
       "      <td>True</td>\n",
       "    </tr>\n",
       "    <tr>\n",
       "      <th>8692</th>\n",
       "      <td>False</td>\n",
       "      <td>44.0</td>\n",
       "      <td>126.0</td>\n",
       "      <td>4688.0</td>\n",
       "      <td>0.0</td>\n",
       "      <td>0.0</td>\n",
       "      <td>12.0</td>\n",
       "      <td>608.0</td>\n",
       "      <td>False</td>\n",
       "      <td>True</td>\n",
       "      <td>...</td>\n",
       "      <td>False</td>\n",
       "      <td>False</td>\n",
       "      <td>False</td>\n",
       "      <td>False</td>\n",
       "      <td>True</td>\n",
       "      <td>False</td>\n",
       "      <td>False</td>\n",
       "      <td>False</td>\n",
       "      <td>False</td>\n",
       "      <td>True</td>\n",
       "    </tr>\n",
       "  </tbody>\n",
       "</table>\n",
       "<p>8693 rows × 26 columns</p>\n",
       "</div>"
      ],
      "text/plain": [
       "      CryoSleep   Age  RoomService  FoodCourt  ShoppingMall     Spa  VRDeck  \\\n",
       "0         False  39.0          0.0        0.0           0.0     0.0     0.0   \n",
       "1         False  24.0        109.0        9.0          25.0   549.0    44.0   \n",
       "2         False  58.0         43.0     3576.0           0.0  6715.0    49.0   \n",
       "3         False  33.0          0.0     1283.0         371.0  3329.0   193.0   \n",
       "4         False  16.0        303.0       70.0         151.0   565.0     2.0   \n",
       "...         ...   ...          ...        ...           ...     ...     ...   \n",
       "8688      False  41.0          0.0     6819.0           0.0  1643.0    74.0   \n",
       "8689       True  18.0          0.0        0.0           0.0     0.0     0.0   \n",
       "8690      False  26.0          0.0        0.0        1872.0     1.0     0.0   \n",
       "8691      False  32.0          0.0     1049.0           0.0   353.0  3235.0   \n",
       "8692      False  44.0        126.0     4688.0           0.0     0.0    12.0   \n",
       "\n",
       "      Cabin_num  HomePlanet_Earth  HomePlanet_Europa  ...  Deck_A  Deck_B  \\\n",
       "0           0.0             False               True  ...   False    True   \n",
       "1           0.0              True              False  ...   False   False   \n",
       "2           0.0             False               True  ...    True   False   \n",
       "3           0.0             False               True  ...    True   False   \n",
       "4           1.0              True              False  ...   False   False   \n",
       "...         ...               ...                ...  ...     ...     ...   \n",
       "8688       98.0             False               True  ...    True   False   \n",
       "8689     1499.0              True              False  ...   False   False   \n",
       "8690     1500.0              True              False  ...   False   False   \n",
       "8691      608.0             False               True  ...   False   False   \n",
       "8692      608.0             False               True  ...   False   False   \n",
       "\n",
       "      Deck_C  Deck_D  Deck_E  Deck_F  Deck_G  Deck_T  Side_P  Side_S  \n",
       "0      False   False   False   False   False   False    True   False  \n",
       "1      False   False   False    True   False   False   False    True  \n",
       "2      False   False   False   False   False   False   False    True  \n",
       "3      False   False   False   False   False   False   False    True  \n",
       "4      False   False   False    True   False   False   False    True  \n",
       "...      ...     ...     ...     ...     ...     ...     ...     ...  \n",
       "8688   False   False   False   False   False   False    True   False  \n",
       "8689   False   False   False   False    True   False   False    True  \n",
       "8690   False   False   False   False    True   False   False    True  \n",
       "8691   False   False    True   False   False   False   False    True  \n",
       "8692   False   False    True   False   False   False   False    True  \n",
       "\n",
       "[8693 rows x 26 columns]"
      ]
     },
     "execution_count": 26,
     "metadata": {},
     "output_type": "execute_result"
    }
   ],
   "source": [
    "X"
   ]
  },
  {
   "cell_type": "code",
   "execution_count": 27,
   "id": "db685ac1",
   "metadata": {
    "execution": {
     "iopub.execute_input": "2023-10-27T06:09:01.799178Z",
     "iopub.status.busy": "2023-10-27T06:09:01.798288Z",
     "iopub.status.idle": "2023-10-27T06:09:01.836814Z",
     "shell.execute_reply": "2023-10-27T06:09:01.835766Z"
    },
    "papermill": {
     "duration": 0.059453,
     "end_time": "2023-10-27T06:09:01.839826",
     "exception": false,
     "start_time": "2023-10-27T06:09:01.780373",
     "status": "completed"
    },
    "tags": []
   },
   "outputs": [
    {
     "data": {
      "text/html": [
       "<div>\n",
       "<style scoped>\n",
       "    .dataframe tbody tr th:only-of-type {\n",
       "        vertical-align: middle;\n",
       "    }\n",
       "\n",
       "    .dataframe tbody tr th {\n",
       "        vertical-align: top;\n",
       "    }\n",
       "\n",
       "    .dataframe thead th {\n",
       "        text-align: right;\n",
       "    }\n",
       "</style>\n",
       "<table border=\"1\" class=\"dataframe\">\n",
       "  <thead>\n",
       "    <tr style=\"text-align: right;\">\n",
       "      <th></th>\n",
       "      <th>CryoSleep</th>\n",
       "      <th>Age</th>\n",
       "      <th>RoomService</th>\n",
       "      <th>FoodCourt</th>\n",
       "      <th>ShoppingMall</th>\n",
       "      <th>Spa</th>\n",
       "      <th>VRDeck</th>\n",
       "      <th>Cabin_num</th>\n",
       "      <th>HomePlanet_Earth</th>\n",
       "      <th>HomePlanet_Europa</th>\n",
       "      <th>...</th>\n",
       "      <th>Deck_A</th>\n",
       "      <th>Deck_B</th>\n",
       "      <th>Deck_C</th>\n",
       "      <th>Deck_D</th>\n",
       "      <th>Deck_E</th>\n",
       "      <th>Deck_F</th>\n",
       "      <th>Deck_G</th>\n",
       "      <th>Deck_T</th>\n",
       "      <th>Side_P</th>\n",
       "      <th>Side_S</th>\n",
       "    </tr>\n",
       "  </thead>\n",
       "  <tbody>\n",
       "    <tr>\n",
       "      <th>0</th>\n",
       "      <td>True</td>\n",
       "      <td>27.000000</td>\n",
       "      <td>0.0</td>\n",
       "      <td>0.0</td>\n",
       "      <td>0.0</td>\n",
       "      <td>0.0</td>\n",
       "      <td>0.0</td>\n",
       "      <td>3.0</td>\n",
       "      <td>True</td>\n",
       "      <td>False</td>\n",
       "      <td>...</td>\n",
       "      <td>False</td>\n",
       "      <td>False</td>\n",
       "      <td>False</td>\n",
       "      <td>False</td>\n",
       "      <td>False</td>\n",
       "      <td>False</td>\n",
       "      <td>True</td>\n",
       "      <td>False</td>\n",
       "      <td>False</td>\n",
       "      <td>True</td>\n",
       "    </tr>\n",
       "    <tr>\n",
       "      <th>1</th>\n",
       "      <td>False</td>\n",
       "      <td>19.000000</td>\n",
       "      <td>0.0</td>\n",
       "      <td>9.0</td>\n",
       "      <td>0.0</td>\n",
       "      <td>2823.0</td>\n",
       "      <td>0.0</td>\n",
       "      <td>4.0</td>\n",
       "      <td>True</td>\n",
       "      <td>False</td>\n",
       "      <td>...</td>\n",
       "      <td>False</td>\n",
       "      <td>False</td>\n",
       "      <td>False</td>\n",
       "      <td>False</td>\n",
       "      <td>False</td>\n",
       "      <td>True</td>\n",
       "      <td>False</td>\n",
       "      <td>False</td>\n",
       "      <td>False</td>\n",
       "      <td>True</td>\n",
       "    </tr>\n",
       "    <tr>\n",
       "      <th>2</th>\n",
       "      <td>True</td>\n",
       "      <td>31.000000</td>\n",
       "      <td>0.0</td>\n",
       "      <td>0.0</td>\n",
       "      <td>0.0</td>\n",
       "      <td>0.0</td>\n",
       "      <td>0.0</td>\n",
       "      <td>0.0</td>\n",
       "      <td>False</td>\n",
       "      <td>True</td>\n",
       "      <td>...</td>\n",
       "      <td>False</td>\n",
       "      <td>False</td>\n",
       "      <td>True</td>\n",
       "      <td>False</td>\n",
       "      <td>False</td>\n",
       "      <td>False</td>\n",
       "      <td>False</td>\n",
       "      <td>False</td>\n",
       "      <td>False</td>\n",
       "      <td>True</td>\n",
       "    </tr>\n",
       "    <tr>\n",
       "      <th>3</th>\n",
       "      <td>False</td>\n",
       "      <td>38.000000</td>\n",
       "      <td>0.0</td>\n",
       "      <td>6652.0</td>\n",
       "      <td>0.0</td>\n",
       "      <td>181.0</td>\n",
       "      <td>585.0</td>\n",
       "      <td>1.0</td>\n",
       "      <td>False</td>\n",
       "      <td>True</td>\n",
       "      <td>...</td>\n",
       "      <td>False</td>\n",
       "      <td>False</td>\n",
       "      <td>True</td>\n",
       "      <td>False</td>\n",
       "      <td>False</td>\n",
       "      <td>False</td>\n",
       "      <td>False</td>\n",
       "      <td>False</td>\n",
       "      <td>False</td>\n",
       "      <td>True</td>\n",
       "    </tr>\n",
       "    <tr>\n",
       "      <th>4</th>\n",
       "      <td>False</td>\n",
       "      <td>20.000000</td>\n",
       "      <td>10.0</td>\n",
       "      <td>0.0</td>\n",
       "      <td>635.0</td>\n",
       "      <td>0.0</td>\n",
       "      <td>0.0</td>\n",
       "      <td>5.0</td>\n",
       "      <td>True</td>\n",
       "      <td>False</td>\n",
       "      <td>...</td>\n",
       "      <td>False</td>\n",
       "      <td>False</td>\n",
       "      <td>False</td>\n",
       "      <td>False</td>\n",
       "      <td>False</td>\n",
       "      <td>True</td>\n",
       "      <td>False</td>\n",
       "      <td>False</td>\n",
       "      <td>False</td>\n",
       "      <td>True</td>\n",
       "    </tr>\n",
       "    <tr>\n",
       "      <th>...</th>\n",
       "      <td>...</td>\n",
       "      <td>...</td>\n",
       "      <td>...</td>\n",
       "      <td>...</td>\n",
       "      <td>...</td>\n",
       "      <td>...</td>\n",
       "      <td>...</td>\n",
       "      <td>...</td>\n",
       "      <td>...</td>\n",
       "      <td>...</td>\n",
       "      <td>...</td>\n",
       "      <td>...</td>\n",
       "      <td>...</td>\n",
       "      <td>...</td>\n",
       "      <td>...</td>\n",
       "      <td>...</td>\n",
       "      <td>...</td>\n",
       "      <td>...</td>\n",
       "      <td>...</td>\n",
       "      <td>...</td>\n",
       "      <td>...</td>\n",
       "    </tr>\n",
       "    <tr>\n",
       "      <th>4272</th>\n",
       "      <td>True</td>\n",
       "      <td>34.000000</td>\n",
       "      <td>0.0</td>\n",
       "      <td>0.0</td>\n",
       "      <td>0.0</td>\n",
       "      <td>0.0</td>\n",
       "      <td>0.0</td>\n",
       "      <td>1496.0</td>\n",
       "      <td>True</td>\n",
       "      <td>False</td>\n",
       "      <td>...</td>\n",
       "      <td>False</td>\n",
       "      <td>False</td>\n",
       "      <td>False</td>\n",
       "      <td>False</td>\n",
       "      <td>False</td>\n",
       "      <td>False</td>\n",
       "      <td>True</td>\n",
       "      <td>False</td>\n",
       "      <td>False</td>\n",
       "      <td>True</td>\n",
       "    </tr>\n",
       "    <tr>\n",
       "      <th>4273</th>\n",
       "      <td>False</td>\n",
       "      <td>42.000000</td>\n",
       "      <td>0.0</td>\n",
       "      <td>847.0</td>\n",
       "      <td>17.0</td>\n",
       "      <td>10.0</td>\n",
       "      <td>144.0</td>\n",
       "      <td>160.0</td>\n",
       "      <td>True</td>\n",
       "      <td>False</td>\n",
       "      <td>...</td>\n",
       "      <td>False</td>\n",
       "      <td>False</td>\n",
       "      <td>False</td>\n",
       "      <td>False</td>\n",
       "      <td>False</td>\n",
       "      <td>False</td>\n",
       "      <td>True</td>\n",
       "      <td>False</td>\n",
       "      <td>True</td>\n",
       "      <td>False</td>\n",
       "    </tr>\n",
       "    <tr>\n",
       "      <th>4274</th>\n",
       "      <td>True</td>\n",
       "      <td>28.771969</td>\n",
       "      <td>0.0</td>\n",
       "      <td>0.0</td>\n",
       "      <td>0.0</td>\n",
       "      <td>0.0</td>\n",
       "      <td>0.0</td>\n",
       "      <td>296.0</td>\n",
       "      <td>False</td>\n",
       "      <td>False</td>\n",
       "      <td>...</td>\n",
       "      <td>False</td>\n",
       "      <td>False</td>\n",
       "      <td>False</td>\n",
       "      <td>True</td>\n",
       "      <td>False</td>\n",
       "      <td>False</td>\n",
       "      <td>False</td>\n",
       "      <td>False</td>\n",
       "      <td>True</td>\n",
       "      <td>False</td>\n",
       "    </tr>\n",
       "    <tr>\n",
       "      <th>4275</th>\n",
       "      <td>False</td>\n",
       "      <td>28.771969</td>\n",
       "      <td>0.0</td>\n",
       "      <td>2680.0</td>\n",
       "      <td>0.0</td>\n",
       "      <td>0.0</td>\n",
       "      <td>523.0</td>\n",
       "      <td>297.0</td>\n",
       "      <td>False</td>\n",
       "      <td>True</td>\n",
       "      <td>...</td>\n",
       "      <td>False</td>\n",
       "      <td>False</td>\n",
       "      <td>False</td>\n",
       "      <td>True</td>\n",
       "      <td>False</td>\n",
       "      <td>False</td>\n",
       "      <td>False</td>\n",
       "      <td>False</td>\n",
       "      <td>True</td>\n",
       "      <td>False</td>\n",
       "    </tr>\n",
       "    <tr>\n",
       "      <th>4276</th>\n",
       "      <td>True</td>\n",
       "      <td>43.000000</td>\n",
       "      <td>0.0</td>\n",
       "      <td>0.0</td>\n",
       "      <td>0.0</td>\n",
       "      <td>0.0</td>\n",
       "      <td>0.0</td>\n",
       "      <td>1498.0</td>\n",
       "      <td>True</td>\n",
       "      <td>False</td>\n",
       "      <td>...</td>\n",
       "      <td>False</td>\n",
       "      <td>False</td>\n",
       "      <td>False</td>\n",
       "      <td>False</td>\n",
       "      <td>False</td>\n",
       "      <td>False</td>\n",
       "      <td>True</td>\n",
       "      <td>False</td>\n",
       "      <td>False</td>\n",
       "      <td>True</td>\n",
       "    </tr>\n",
       "  </tbody>\n",
       "</table>\n",
       "<p>4277 rows × 26 columns</p>\n",
       "</div>"
      ],
      "text/plain": [
       "      CryoSleep        Age  RoomService  FoodCourt  ShoppingMall     Spa  \\\n",
       "0          True  27.000000          0.0        0.0           0.0     0.0   \n",
       "1         False  19.000000          0.0        9.0           0.0  2823.0   \n",
       "2          True  31.000000          0.0        0.0           0.0     0.0   \n",
       "3         False  38.000000          0.0     6652.0           0.0   181.0   \n",
       "4         False  20.000000         10.0        0.0         635.0     0.0   \n",
       "...         ...        ...          ...        ...           ...     ...   \n",
       "4272       True  34.000000          0.0        0.0           0.0     0.0   \n",
       "4273      False  42.000000          0.0      847.0          17.0    10.0   \n",
       "4274       True  28.771969          0.0        0.0           0.0     0.0   \n",
       "4275      False  28.771969          0.0     2680.0           0.0     0.0   \n",
       "4276       True  43.000000          0.0        0.0           0.0     0.0   \n",
       "\n",
       "      VRDeck  Cabin_num  HomePlanet_Earth  HomePlanet_Europa  ...  Deck_A  \\\n",
       "0        0.0        3.0              True              False  ...   False   \n",
       "1        0.0        4.0              True              False  ...   False   \n",
       "2        0.0        0.0             False               True  ...   False   \n",
       "3      585.0        1.0             False               True  ...   False   \n",
       "4        0.0        5.0              True              False  ...   False   \n",
       "...      ...        ...               ...                ...  ...     ...   \n",
       "4272     0.0     1496.0              True              False  ...   False   \n",
       "4273   144.0      160.0              True              False  ...   False   \n",
       "4274     0.0      296.0             False              False  ...   False   \n",
       "4275   523.0      297.0             False               True  ...   False   \n",
       "4276     0.0     1498.0              True              False  ...   False   \n",
       "\n",
       "      Deck_B  Deck_C  Deck_D  Deck_E  Deck_F  Deck_G  Deck_T  Side_P  Side_S  \n",
       "0      False   False   False   False   False    True   False   False    True  \n",
       "1      False   False   False   False    True   False   False   False    True  \n",
       "2      False    True   False   False   False   False   False   False    True  \n",
       "3      False    True   False   False   False   False   False   False    True  \n",
       "4      False   False   False   False    True   False   False   False    True  \n",
       "...      ...     ...     ...     ...     ...     ...     ...     ...     ...  \n",
       "4272   False   False   False   False   False    True   False   False    True  \n",
       "4273   False   False   False   False   False    True   False    True   False  \n",
       "4274   False   False    True   False   False   False   False    True   False  \n",
       "4275   False   False    True   False   False   False   False    True   False  \n",
       "4276   False   False   False   False   False    True   False   False    True  \n",
       "\n",
       "[4277 rows x 26 columns]"
      ]
     },
     "execution_count": 27,
     "metadata": {},
     "output_type": "execute_result"
    }
   ],
   "source": [
    "Test"
   ]
  },
  {
   "cell_type": "markdown",
   "id": "2114cf01",
   "metadata": {
    "papermill": {
     "duration": 0.016921,
     "end_time": "2023-10-27T06:09:01.874829",
     "exception": false,
     "start_time": "2023-10-27T06:09:01.857908",
     "status": "completed"
    },
    "tags": []
   },
   "source": [
    "# Creating Model and Prediction"
   ]
  },
  {
   "cell_type": "code",
   "execution_count": 28,
   "id": "d02779c0",
   "metadata": {
    "execution": {
     "iopub.execute_input": "2023-10-27T06:09:01.912768Z",
     "iopub.status.busy": "2023-10-27T06:09:01.911355Z",
     "iopub.status.idle": "2023-10-27T06:09:05.140461Z",
     "shell.execute_reply": "2023-10-27T06:09:05.139263Z"
    },
    "papermill": {
     "duration": 3.250187,
     "end_time": "2023-10-27T06:09:05.142725",
     "exception": false,
     "start_time": "2023-10-27T06:09:01.892538",
     "status": "completed"
    },
    "tags": []
   },
   "outputs": [
    {
     "data": {
      "text/html": [
       "<style>#sk-container-id-1 {color: black;background-color: white;}#sk-container-id-1 pre{padding: 0;}#sk-container-id-1 div.sk-toggleable {background-color: white;}#sk-container-id-1 label.sk-toggleable__label {cursor: pointer;display: block;width: 100%;margin-bottom: 0;padding: 0.3em;box-sizing: border-box;text-align: center;}#sk-container-id-1 label.sk-toggleable__label-arrow:before {content: \"▸\";float: left;margin-right: 0.25em;color: #696969;}#sk-container-id-1 label.sk-toggleable__label-arrow:hover:before {color: black;}#sk-container-id-1 div.sk-estimator:hover label.sk-toggleable__label-arrow:before {color: black;}#sk-container-id-1 div.sk-toggleable__content {max-height: 0;max-width: 0;overflow: hidden;text-align: left;background-color: #f0f8ff;}#sk-container-id-1 div.sk-toggleable__content pre {margin: 0.2em;color: black;border-radius: 0.25em;background-color: #f0f8ff;}#sk-container-id-1 input.sk-toggleable__control:checked~div.sk-toggleable__content {max-height: 200px;max-width: 100%;overflow: auto;}#sk-container-id-1 input.sk-toggleable__control:checked~label.sk-toggleable__label-arrow:before {content: \"▾\";}#sk-container-id-1 div.sk-estimator input.sk-toggleable__control:checked~label.sk-toggleable__label {background-color: #d4ebff;}#sk-container-id-1 div.sk-label input.sk-toggleable__control:checked~label.sk-toggleable__label {background-color: #d4ebff;}#sk-container-id-1 input.sk-hidden--visually {border: 0;clip: rect(1px 1px 1px 1px);clip: rect(1px, 1px, 1px, 1px);height: 1px;margin: -1px;overflow: hidden;padding: 0;position: absolute;width: 1px;}#sk-container-id-1 div.sk-estimator {font-family: monospace;background-color: #f0f8ff;border: 1px dotted black;border-radius: 0.25em;box-sizing: border-box;margin-bottom: 0.5em;}#sk-container-id-1 div.sk-estimator:hover {background-color: #d4ebff;}#sk-container-id-1 div.sk-parallel-item::after {content: \"\";width: 100%;border-bottom: 1px solid gray;flex-grow: 1;}#sk-container-id-1 div.sk-label:hover label.sk-toggleable__label {background-color: #d4ebff;}#sk-container-id-1 div.sk-serial::before {content: \"\";position: absolute;border-left: 1px solid gray;box-sizing: border-box;top: 0;bottom: 0;left: 50%;z-index: 0;}#sk-container-id-1 div.sk-serial {display: flex;flex-direction: column;align-items: center;background-color: white;padding-right: 0.2em;padding-left: 0.2em;position: relative;}#sk-container-id-1 div.sk-item {position: relative;z-index: 1;}#sk-container-id-1 div.sk-parallel {display: flex;align-items: stretch;justify-content: center;background-color: white;position: relative;}#sk-container-id-1 div.sk-item::before, #sk-container-id-1 div.sk-parallel-item::before {content: \"\";position: absolute;border-left: 1px solid gray;box-sizing: border-box;top: 0;bottom: 0;left: 50%;z-index: -1;}#sk-container-id-1 div.sk-parallel-item {display: flex;flex-direction: column;z-index: 1;position: relative;background-color: white;}#sk-container-id-1 div.sk-parallel-item:first-child::after {align-self: flex-end;width: 50%;}#sk-container-id-1 div.sk-parallel-item:last-child::after {align-self: flex-start;width: 50%;}#sk-container-id-1 div.sk-parallel-item:only-child::after {width: 0;}#sk-container-id-1 div.sk-dashed-wrapped {border: 1px dashed gray;margin: 0 0.4em 0.5em 0.4em;box-sizing: border-box;padding-bottom: 0.4em;background-color: white;}#sk-container-id-1 div.sk-label label {font-family: monospace;font-weight: bold;display: inline-block;line-height: 1.2em;}#sk-container-id-1 div.sk-label-container {text-align: center;}#sk-container-id-1 div.sk-container {/* jupyter's `normalize.less` sets `[hidden] { display: none; }` but bootstrap.min.css set `[hidden] { display: none !important; }` so we also need the `!important` here to be able to override the default hidden behavior on the sphinx rendered scikit-learn.org. See: https://github.com/scikit-learn/scikit-learn/issues/21755 */display: inline-block !important;position: relative;}#sk-container-id-1 div.sk-text-repr-fallback {display: none;}</style><div id=\"sk-container-id-1\" class=\"sk-top-container\"><div class=\"sk-text-repr-fallback\"><pre>RandomForestClassifier()</pre><b>In a Jupyter environment, please rerun this cell to show the HTML representation or trust the notebook. <br />On GitHub, the HTML representation is unable to render, please try loading this page with nbviewer.org.</b></div><div class=\"sk-container\" hidden><div class=\"sk-item\"><div class=\"sk-estimator sk-toggleable\"><input class=\"sk-toggleable__control sk-hidden--visually\" id=\"sk-estimator-id-1\" type=\"checkbox\" checked><label for=\"sk-estimator-id-1\" class=\"sk-toggleable__label sk-toggleable__label-arrow\">RandomForestClassifier</label><div class=\"sk-toggleable__content\"><pre>RandomForestClassifier()</pre></div></div></div></div></div>"
      ],
      "text/plain": [
       "RandomForestClassifier()"
      ]
     },
     "execution_count": 28,
     "metadata": {},
     "output_type": "execute_result"
    }
   ],
   "source": [
    "from sklearn.model_selection import RandomizedSearchCV\n",
    "from sklearn.ensemble import RandomForestClassifier\n",
    "\n",
    "model = RandomForestClassifier()\n",
    "\n",
    "model.fit(X,y)"
   ]
  },
  {
   "cell_type": "code",
   "execution_count": 29,
   "id": "f6dd7054",
   "metadata": {
    "execution": {
     "iopub.execute_input": "2023-10-27T06:09:05.181555Z",
     "iopub.status.busy": "2023-10-27T06:09:05.180805Z",
     "iopub.status.idle": "2023-10-27T06:09:05.365476Z",
     "shell.execute_reply": "2023-10-27T06:09:05.364067Z"
    },
    "papermill": {
     "duration": 0.208397,
     "end_time": "2023-10-27T06:09:05.368314",
     "exception": false,
     "start_time": "2023-10-27T06:09:05.159917",
     "status": "completed"
    },
    "tags": []
   },
   "outputs": [],
   "source": [
    "pred = model.predict(X)"
   ]
  },
  {
   "cell_type": "code",
   "execution_count": 30,
   "id": "e5f2d1db",
   "metadata": {
    "execution": {
     "iopub.execute_input": "2023-10-27T06:09:05.405080Z",
     "iopub.status.busy": "2023-10-27T06:09:05.404589Z",
     "iopub.status.idle": "2023-10-27T06:09:05.416118Z",
     "shell.execute_reply": "2023-10-27T06:09:05.414734Z"
    },
    "papermill": {
     "duration": 0.033255,
     "end_time": "2023-10-27T06:09:05.418802",
     "exception": false,
     "start_time": "2023-10-27T06:09:05.385547",
     "status": "completed"
    },
    "tags": []
   },
   "outputs": [
    {
     "data": {
      "text/plain": [
       "0.9993097894857932"
      ]
     },
     "execution_count": 30,
     "metadata": {},
     "output_type": "execute_result"
    }
   ],
   "source": [
    "from sklearn.metrics import accuracy_score\n",
    "accuracy_score(y,pred)"
   ]
  },
  {
   "cell_type": "code",
   "execution_count": 31,
   "id": "456da520",
   "metadata": {
    "execution": {
     "iopub.execute_input": "2023-10-27T06:09:05.458096Z",
     "iopub.status.busy": "2023-10-27T06:09:05.457664Z",
     "iopub.status.idle": "2023-10-27T06:09:05.568719Z",
     "shell.execute_reply": "2023-10-27T06:09:05.566750Z"
    },
    "papermill": {
     "duration": 0.134153,
     "end_time": "2023-10-27T06:09:05.571343",
     "exception": false,
     "start_time": "2023-10-27T06:09:05.437190",
     "status": "completed"
    },
    "tags": []
   },
   "outputs": [
    {
     "name": "stdout",
     "output_type": "stream",
     "text": [
      "[ True False  True ...  True  True False]\n"
     ]
    }
   ],
   "source": [
    "pred_test = model.predict(Test)\n",
    "print(pred_test)"
   ]
  },
  {
   "cell_type": "markdown",
   "id": "6e77d454",
   "metadata": {
    "papermill": {
     "duration": 0.016454,
     "end_time": "2023-10-27T06:09:05.605294",
     "exception": false,
     "start_time": "2023-10-27T06:09:05.588840",
     "status": "completed"
    },
    "tags": []
   },
   "source": [
    "# Creating Output"
   ]
  },
  {
   "cell_type": "code",
   "execution_count": 32,
   "id": "7223f7cd",
   "metadata": {
    "execution": {
     "iopub.execute_input": "2023-10-27T06:09:05.640638Z",
     "iopub.status.busy": "2023-10-27T06:09:05.640206Z",
     "iopub.status.idle": "2023-10-27T06:09:05.669774Z",
     "shell.execute_reply": "2023-10-27T06:09:05.668767Z"
    },
    "papermill": {
     "duration": 0.050054,
     "end_time": "2023-10-27T06:09:05.672118",
     "exception": false,
     "start_time": "2023-10-27T06:09:05.622064",
     "status": "completed"
    },
    "tags": []
   },
   "outputs": [
    {
     "data": {
      "text/plain": [
       "Index(['PassengerId', 'HomePlanet', 'CryoSleep', 'Cabin', 'Destination', 'Age',\n",
       "       'VIP', 'RoomService', 'FoodCourt', 'ShoppingMall', 'Spa', 'VRDeck',\n",
       "       'Name'],\n",
       "      dtype='object')"
      ]
     },
     "execution_count": 32,
     "metadata": {},
     "output_type": "execute_result"
    }
   ],
   "source": [
    "submission = pd.read_csv(\"/kaggle/input/spaceship-titanic/test.csv\")\n",
    "submission.columns"
   ]
  },
  {
   "cell_type": "code",
   "execution_count": 33,
   "id": "9bddd93f",
   "metadata": {
    "execution": {
     "iopub.execute_input": "2023-10-27T06:09:05.715660Z",
     "iopub.status.busy": "2023-10-27T06:09:05.715116Z",
     "iopub.status.idle": "2023-10-27T06:09:05.724245Z",
     "shell.execute_reply": "2023-10-27T06:09:05.722892Z"
    },
    "papermill": {
     "duration": 0.03443,
     "end_time": "2023-10-27T06:09:05.727195",
     "exception": false,
     "start_time": "2023-10-27T06:09:05.692765",
     "status": "completed"
    },
    "tags": []
   },
   "outputs": [],
   "source": [
    "submission.drop(['HomePlanet', 'CryoSleep', 'Cabin', 'Destination', 'Age','VIP', 'RoomService', 'FoodCourt', 'ShoppingMall', 'Spa', 'VRDeck','Name'],axis = 1,inplace = True)"
   ]
  },
  {
   "cell_type": "code",
   "execution_count": 34,
   "id": "4aaab19e",
   "metadata": {
    "execution": {
     "iopub.execute_input": "2023-10-27T06:09:05.779840Z",
     "iopub.status.busy": "2023-10-27T06:09:05.779260Z",
     "iopub.status.idle": "2023-10-27T06:09:05.786196Z",
     "shell.execute_reply": "2023-10-27T06:09:05.784898Z"
    },
    "papermill": {
     "duration": 0.038543,
     "end_time": "2023-10-27T06:09:05.789418",
     "exception": false,
     "start_time": "2023-10-27T06:09:05.750875",
     "status": "completed"
    },
    "tags": []
   },
   "outputs": [],
   "source": [
    "submission['Transported'] = pred_test"
   ]
  },
  {
   "cell_type": "code",
   "execution_count": 35,
   "id": "b37bcee8",
   "metadata": {
    "execution": {
     "iopub.execute_input": "2023-10-27T06:09:05.838207Z",
     "iopub.status.busy": "2023-10-27T06:09:05.837730Z",
     "iopub.status.idle": "2023-10-27T06:09:05.851499Z",
     "shell.execute_reply": "2023-10-27T06:09:05.850586Z"
    },
    "papermill": {
     "duration": 0.043392,
     "end_time": "2023-10-27T06:09:05.853883",
     "exception": false,
     "start_time": "2023-10-27T06:09:05.810491",
     "status": "completed"
    },
    "tags": []
   },
   "outputs": [
    {
     "data": {
      "text/html": [
       "<div>\n",
       "<style scoped>\n",
       "    .dataframe tbody tr th:only-of-type {\n",
       "        vertical-align: middle;\n",
       "    }\n",
       "\n",
       "    .dataframe tbody tr th {\n",
       "        vertical-align: top;\n",
       "    }\n",
       "\n",
       "    .dataframe thead th {\n",
       "        text-align: right;\n",
       "    }\n",
       "</style>\n",
       "<table border=\"1\" class=\"dataframe\">\n",
       "  <thead>\n",
       "    <tr style=\"text-align: right;\">\n",
       "      <th></th>\n",
       "      <th>PassengerId</th>\n",
       "      <th>Transported</th>\n",
       "    </tr>\n",
       "  </thead>\n",
       "  <tbody>\n",
       "    <tr>\n",
       "      <th>0</th>\n",
       "      <td>0013_01</td>\n",
       "      <td>True</td>\n",
       "    </tr>\n",
       "    <tr>\n",
       "      <th>1</th>\n",
       "      <td>0018_01</td>\n",
       "      <td>False</td>\n",
       "    </tr>\n",
       "    <tr>\n",
       "      <th>2</th>\n",
       "      <td>0019_01</td>\n",
       "      <td>True</td>\n",
       "    </tr>\n",
       "    <tr>\n",
       "      <th>3</th>\n",
       "      <td>0021_01</td>\n",
       "      <td>True</td>\n",
       "    </tr>\n",
       "    <tr>\n",
       "      <th>4</th>\n",
       "      <td>0023_01</td>\n",
       "      <td>False</td>\n",
       "    </tr>\n",
       "    <tr>\n",
       "      <th>...</th>\n",
       "      <td>...</td>\n",
       "      <td>...</td>\n",
       "    </tr>\n",
       "    <tr>\n",
       "      <th>4272</th>\n",
       "      <td>9266_02</td>\n",
       "      <td>True</td>\n",
       "    </tr>\n",
       "    <tr>\n",
       "      <th>4273</th>\n",
       "      <td>9269_01</td>\n",
       "      <td>False</td>\n",
       "    </tr>\n",
       "    <tr>\n",
       "      <th>4274</th>\n",
       "      <td>9271_01</td>\n",
       "      <td>True</td>\n",
       "    </tr>\n",
       "    <tr>\n",
       "      <th>4275</th>\n",
       "      <td>9273_01</td>\n",
       "      <td>True</td>\n",
       "    </tr>\n",
       "    <tr>\n",
       "      <th>4276</th>\n",
       "      <td>9277_01</td>\n",
       "      <td>False</td>\n",
       "    </tr>\n",
       "  </tbody>\n",
       "</table>\n",
       "<p>4277 rows × 2 columns</p>\n",
       "</div>"
      ],
      "text/plain": [
       "     PassengerId  Transported\n",
       "0        0013_01         True\n",
       "1        0018_01        False\n",
       "2        0019_01         True\n",
       "3        0021_01         True\n",
       "4        0023_01        False\n",
       "...          ...          ...\n",
       "4272     9266_02         True\n",
       "4273     9269_01        False\n",
       "4274     9271_01         True\n",
       "4275     9273_01         True\n",
       "4276     9277_01        False\n",
       "\n",
       "[4277 rows x 2 columns]"
      ]
     },
     "execution_count": 35,
     "metadata": {},
     "output_type": "execute_result"
    }
   ],
   "source": [
    "submission"
   ]
  },
  {
   "cell_type": "code",
   "execution_count": 36,
   "id": "4fbcf22c",
   "metadata": {
    "execution": {
     "iopub.execute_input": "2023-10-27T06:09:05.891393Z",
     "iopub.status.busy": "2023-10-27T06:09:05.890539Z",
     "iopub.status.idle": "2023-10-27T06:09:05.910773Z",
     "shell.execute_reply": "2023-10-27T06:09:05.909352Z"
    },
    "papermill": {
     "duration": 0.042635,
     "end_time": "2023-10-27T06:09:05.913965",
     "exception": false,
     "start_time": "2023-10-27T06:09:05.871330",
     "status": "completed"
    },
    "tags": []
   },
   "outputs": [],
   "source": [
    "submission.to_csv('submission.csv', index=False)"
   ]
  },
  {
   "cell_type": "code",
   "execution_count": 37,
   "id": "d542ac37",
   "metadata": {
    "execution": {
     "iopub.execute_input": "2023-10-27T06:09:05.951691Z",
     "iopub.status.busy": "2023-10-27T06:09:05.951181Z",
     "iopub.status.idle": "2023-10-27T06:09:05.965857Z",
     "shell.execute_reply": "2023-10-27T06:09:05.964515Z"
    },
    "papermill": {
     "duration": 0.036433,
     "end_time": "2023-10-27T06:09:05.968579",
     "exception": false,
     "start_time": "2023-10-27T06:09:05.932146",
     "status": "completed"
    },
    "tags": []
   },
   "outputs": [
    {
     "data": {
      "text/html": [
       "<div>\n",
       "<style scoped>\n",
       "    .dataframe tbody tr th:only-of-type {\n",
       "        vertical-align: middle;\n",
       "    }\n",
       "\n",
       "    .dataframe tbody tr th {\n",
       "        vertical-align: top;\n",
       "    }\n",
       "\n",
       "    .dataframe thead th {\n",
       "        text-align: right;\n",
       "    }\n",
       "</style>\n",
       "<table border=\"1\" class=\"dataframe\">\n",
       "  <thead>\n",
       "    <tr style=\"text-align: right;\">\n",
       "      <th></th>\n",
       "      <th>PassengerId</th>\n",
       "      <th>Transported</th>\n",
       "    </tr>\n",
       "  </thead>\n",
       "  <tbody>\n",
       "    <tr>\n",
       "      <th>0</th>\n",
       "      <td>0013_01</td>\n",
       "      <td>True</td>\n",
       "    </tr>\n",
       "    <tr>\n",
       "      <th>1</th>\n",
       "      <td>0018_01</td>\n",
       "      <td>False</td>\n",
       "    </tr>\n",
       "    <tr>\n",
       "      <th>2</th>\n",
       "      <td>0019_01</td>\n",
       "      <td>True</td>\n",
       "    </tr>\n",
       "    <tr>\n",
       "      <th>3</th>\n",
       "      <td>0021_01</td>\n",
       "      <td>True</td>\n",
       "    </tr>\n",
       "    <tr>\n",
       "      <th>4</th>\n",
       "      <td>0023_01</td>\n",
       "      <td>False</td>\n",
       "    </tr>\n",
       "    <tr>\n",
       "      <th>...</th>\n",
       "      <td>...</td>\n",
       "      <td>...</td>\n",
       "    </tr>\n",
       "    <tr>\n",
       "      <th>4272</th>\n",
       "      <td>9266_02</td>\n",
       "      <td>True</td>\n",
       "    </tr>\n",
       "    <tr>\n",
       "      <th>4273</th>\n",
       "      <td>9269_01</td>\n",
       "      <td>False</td>\n",
       "    </tr>\n",
       "    <tr>\n",
       "      <th>4274</th>\n",
       "      <td>9271_01</td>\n",
       "      <td>True</td>\n",
       "    </tr>\n",
       "    <tr>\n",
       "      <th>4275</th>\n",
       "      <td>9273_01</td>\n",
       "      <td>True</td>\n",
       "    </tr>\n",
       "    <tr>\n",
       "      <th>4276</th>\n",
       "      <td>9277_01</td>\n",
       "      <td>False</td>\n",
       "    </tr>\n",
       "  </tbody>\n",
       "</table>\n",
       "<p>4277 rows × 2 columns</p>\n",
       "</div>"
      ],
      "text/plain": [
       "     PassengerId  Transported\n",
       "0        0013_01         True\n",
       "1        0018_01        False\n",
       "2        0019_01         True\n",
       "3        0021_01         True\n",
       "4        0023_01        False\n",
       "...          ...          ...\n",
       "4272     9266_02         True\n",
       "4273     9269_01        False\n",
       "4274     9271_01         True\n",
       "4275     9273_01         True\n",
       "4276     9277_01        False\n",
       "\n",
       "[4277 rows x 2 columns]"
      ]
     },
     "execution_count": 37,
     "metadata": {},
     "output_type": "execute_result"
    }
   ],
   "source": [
    "submission"
   ]
  },
  {
   "cell_type": "code",
   "execution_count": null,
   "id": "b05b276a",
   "metadata": {
    "papermill": {
     "duration": 0.01822,
     "end_time": "2023-10-27T06:09:06.004562",
     "exception": false,
     "start_time": "2023-10-27T06:09:05.986342",
     "status": "completed"
    },
    "tags": []
   },
   "outputs": [],
   "source": []
  }
 ],
 "metadata": {
  "kernelspec": {
   "display_name": "Python 3",
   "language": "python",
   "name": "python3"
  },
  "language_info": {
   "codemirror_mode": {
    "name": "ipython",
    "version": 3
   },
   "file_extension": ".py",
   "mimetype": "text/x-python",
   "name": "python",
   "nbconvert_exporter": "python",
   "pygments_lexer": "ipython3",
   "version": "3.10.12"
  },
  "papermill": {
   "default_parameters": {},
   "duration": 10.815994,
   "end_time": "2023-10-27T06:09:06.746008",
   "environment_variables": {},
   "exception": null,
   "input_path": "__notebook__.ipynb",
   "output_path": "__notebook__.ipynb",
   "parameters": {},
   "start_time": "2023-10-27T06:08:55.930014",
   "version": "2.4.0"
  }
 },
 "nbformat": 4,
 "nbformat_minor": 5
}
